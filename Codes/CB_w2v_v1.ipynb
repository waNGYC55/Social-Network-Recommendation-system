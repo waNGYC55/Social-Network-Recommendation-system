{
 "cells": [
  {
   "cell_type": "code",
   "execution_count": 1,
   "id": "animal-drunk",
   "metadata": {
    "_cell_guid": "b1076dfc-b9ad-4769-8c92-a6c4dae69d19",
    "_uuid": "8f2839f25d086af736a60e9eeb907d3b93b6e0e5",
    "execution": {
     "iopub.execute_input": "2021-04-27T14:30:01.095395Z",
     "iopub.status.busy": "2021-04-27T14:30:01.092862Z",
     "iopub.status.idle": "2021-04-27T14:30:01.120170Z",
     "shell.execute_reply": "2021-04-27T14:30:01.120870Z"
    },
    "papermill": {
     "duration": 0.04943,
     "end_time": "2021-04-27T14:30:01.121235",
     "exception": false,
     "start_time": "2021-04-27T14:30:01.071805",
     "status": "completed"
    },
    "tags": []
   },
   "outputs": [
    {
     "name": "stdout",
     "output_type": "stream",
     "text": [
      "/kaggle/input/w2v-model/word2vec_trainingdata_all_size25.model\n",
      "/kaggle/input/the-movies-dataset/ratings.csv\n",
      "/kaggle/input/the-movies-dataset/links_small.csv\n",
      "/kaggle/input/the-movies-dataset/credits.csv\n",
      "/kaggle/input/the-movies-dataset/keywords.csv\n",
      "/kaggle/input/the-movies-dataset/movies_metadata.csv\n",
      "/kaggle/input/the-movies-dataset/ratings_small.csv\n",
      "/kaggle/input/the-movies-dataset/links.csv\n"
     ]
    }
   ],
   "source": [
    "# This Python 3 environment comes with many helpful analytics libraries installed\n",
    "# It is defined by the kaggle/python Docker image: https://github.com/kaggle/docker-python\n",
    "# For example, here's several helpful packages to load\n",
    "\n",
    "import numpy as np # linear algebra\n",
    "import pandas as pd # data processing, CSV file I/O (e.g. pd.read_csv)\n",
    "\n",
    "# Input data files are available in the read-only \"../input/\" directory\n",
    "# For example, running this (by clicking run or pressing Shift+Enter) will list all files under the input directory\n",
    "\n",
    "import os\n",
    "for dirname, _, filenames in os.walk('/kaggle/input'):\n",
    "    for filename in filenames:\n",
    "        print(os.path.join(dirname, filename))\n",
    "\n",
    "# You can write up to 20GB to the current directory (/kaggle/working/) that gets preserved as output when you create a version using \"Save & Run All\" \n",
    "# You can also write temporary files to /kaggle/temp/, but they won't be saved outside of the current session"
   ]
  },
  {
   "cell_type": "code",
   "execution_count": 2,
   "id": "mexican-suicide",
   "metadata": {
    "execution": {
     "iopub.execute_input": "2021-04-27T14:30:01.150677Z",
     "iopub.status.busy": "2021-04-27T14:30:01.149931Z",
     "iopub.status.idle": "2021-04-27T14:30:10.518500Z",
     "shell.execute_reply": "2021-04-27T14:30:10.517675Z"
    },
    "papermill": {
     "duration": 9.383263,
     "end_time": "2021-04-27T14:30:10.518674",
     "exception": false,
     "start_time": "2021-04-27T14:30:01.135411",
     "status": "completed"
    },
    "tags": []
   },
   "outputs": [],
   "source": [
    "#import packages for later use\n",
    "import matplotlib.pyplot as plt\n",
    "import torch\n",
    "import torch.nn as nn\n",
    "import torch.nn.functional as F\n",
    "from gensim.models import word2vec\n",
    "from keras.preprocessing.text import text_to_word_sequence\n",
    "from scipy.spatial import distance"
   ]
  },
  {
   "cell_type": "code",
   "execution_count": 3,
   "id": "scheduled-qualification",
   "metadata": {
    "execution": {
     "iopub.execute_input": "2021-04-27T14:30:10.554242Z",
     "iopub.status.busy": "2021-04-27T14:30:10.553179Z",
     "iopub.status.idle": "2021-04-27T14:30:11.990784Z",
     "shell.execute_reply": "2021-04-27T14:30:11.991411Z"
    },
    "papermill": {
     "duration": 1.461056,
     "end_time": "2021-04-27T14:30:11.991642",
     "exception": false,
     "start_time": "2021-04-27T14:30:10.530586",
     "status": "completed"
    },
    "tags": []
   },
   "outputs": [
    {
     "name": "stderr",
     "output_type": "stream",
     "text": [
      "/opt/conda/lib/python3.7/site-packages/IPython/core/interactiveshell.py:3166: DtypeWarning: Columns (10) have mixed types.Specify dtype option on import or set low_memory=False.\n",
      "  interactivity=interactivity, compiler=compiler, result=result)\n"
     ]
    }
   ],
   "source": [
    "#input dataset\n",
    "X = pd.read_csv(\"../input/the-movies-dataset/movies_metadata.csv\")\n",
    "overview = X['overview']\n",
    "name_overview = X[['original_title','overview','id']]"
   ]
  },
  {
   "cell_type": "code",
   "execution_count": 4,
   "id": "subtle-academy",
   "metadata": {
    "execution": {
     "iopub.execute_input": "2021-04-27T14:30:12.062692Z",
     "iopub.status.busy": "2021-04-27T14:30:12.022323Z",
     "iopub.status.idle": "2021-04-27T14:30:12.145724Z",
     "shell.execute_reply": "2021-04-27T14:30:12.145150Z"
    },
    "papermill": {
     "duration": 0.141346,
     "end_time": "2021-04-27T14:30:12.145924",
     "exception": false,
     "start_time": "2021-04-27T14:30:12.004578",
     "status": "completed"
    },
    "tags": []
   },
   "outputs": [
    {
     "data": {
      "text/plain": [
       "count                  44512\n",
       "unique                 44307\n",
       "top       No overview found.\n",
       "freq                     133\n",
       "Name: overview, dtype: object"
      ]
     },
     "execution_count": 4,
     "metadata": {},
     "output_type": "execute_result"
    }
   ],
   "source": [
    "overview.describe()"
   ]
  },
  {
   "cell_type": "code",
   "execution_count": 5,
   "id": "attached-wichita",
   "metadata": {
    "execution": {
     "iopub.execute_input": "2021-04-27T14:30:12.180139Z",
     "iopub.status.busy": "2021-04-27T14:30:12.179153Z",
     "iopub.status.idle": "2021-04-27T14:30:12.184939Z",
     "shell.execute_reply": "2021-04-27T14:30:12.184124Z"
    },
    "papermill": {
     "duration": 0.026548,
     "end_time": "2021-04-27T14:30:12.185133",
     "exception": false,
     "start_time": "2021-04-27T14:30:12.158585",
     "status": "completed"
    },
    "tags": []
   },
   "outputs": [
    {
     "data": {
      "text/plain": [
       "0    Led by Woody, Andy's toys live happily in his ...\n",
       "1    When siblings Judy and Peter discover an encha...\n",
       "2    A family wedding reignites the ancient feud be...\n",
       "3    Cheated on, mistreated and stepped on, the wom...\n",
       "4    Just when George Banks has recovered from his ...\n",
       "Name: overview, dtype: object"
      ]
     },
     "execution_count": 5,
     "metadata": {},
     "output_type": "execute_result"
    }
   ],
   "source": [
    "overview.head()"
   ]
  },
  {
   "cell_type": "code",
   "execution_count": 6,
   "id": "solved-narrative",
   "metadata": {
    "execution": {
     "iopub.execute_input": "2021-04-27T14:30:12.217916Z",
     "iopub.status.busy": "2021-04-27T14:30:12.216721Z",
     "iopub.status.idle": "2021-04-27T14:30:12.221974Z",
     "shell.execute_reply": "2021-04-27T14:30:12.221334Z"
    },
    "papermill": {
     "duration": 0.023846,
     "end_time": "2021-04-27T14:30:12.222117",
     "exception": false,
     "start_time": "2021-04-27T14:30:12.198271",
     "status": "completed"
    },
    "tags": []
   },
   "outputs": [
    {
     "data": {
      "text/plain": [
       "(45466,)"
      ]
     },
     "execution_count": 6,
     "metadata": {},
     "output_type": "execute_result"
    }
   ],
   "source": [
    "overview.shape"
   ]
  },
  {
   "cell_type": "code",
   "execution_count": 7,
   "id": "transparent-elite",
   "metadata": {
    "execution": {
     "iopub.execute_input": "2021-04-27T14:30:12.254156Z",
     "iopub.status.busy": "2021-04-27T14:30:12.253247Z",
     "iopub.status.idle": "2021-04-27T14:30:12.258113Z",
     "shell.execute_reply": "2021-04-27T14:30:12.257511Z"
    },
    "papermill": {
     "duration": 0.023061,
     "end_time": "2021-04-27T14:30:12.258258",
     "exception": false,
     "start_time": "2021-04-27T14:30:12.235197",
     "status": "completed"
    },
    "tags": []
   },
   "outputs": [
    {
     "name": "stdout",
     "output_type": "stream",
     "text": [
      "The size of training sample that we use for trianing is 45466\n"
     ]
    }
   ],
   "source": [
    "print('The size of training sample that we use for trianing is {}'.format(overview.shape[0]))"
   ]
  },
  {
   "cell_type": "code",
   "execution_count": 8,
   "id": "ideal-european",
   "metadata": {
    "execution": {
     "iopub.execute_input": "2021-04-27T14:30:12.330972Z",
     "iopub.status.busy": "2021-04-27T14:30:12.325346Z",
     "iopub.status.idle": "2021-04-27T14:30:13.598625Z",
     "shell.execute_reply": "2021-04-27T14:30:13.598061Z"
    },
    "papermill": {
     "duration": 1.326767,
     "end_time": "2021-04-27T14:30:13.598821",
     "exception": false,
     "start_time": "2021-04-27T14:30:12.272054",
     "status": "completed"
    },
    "tags": []
   },
   "outputs": [],
   "source": [
    "#prepare the corpus\n",
    "sentence=[]\n",
    "for i in overview:\n",
    "    sentence.append(text_to_word_sequence(str(i),filters='!\"#$%&()*+,-./:;<=>?@[\\]^_`{|}~\\t\\n',lower=True,split=\" \"))"
   ]
  },
  {
   "cell_type": "code",
   "execution_count": 9,
   "id": "grave-cement",
   "metadata": {
    "execution": {
     "iopub.execute_input": "2021-04-27T14:30:13.631182Z",
     "iopub.status.busy": "2021-04-27T14:30:13.630520Z",
     "iopub.status.idle": "2021-04-27T14:30:13.634063Z",
     "shell.execute_reply": "2021-04-27T14:30:13.634606Z"
    },
    "papermill": {
     "duration": 0.021896,
     "end_time": "2021-04-27T14:30:13.634847",
     "exception": false,
     "start_time": "2021-04-27T14:30:13.612951",
     "status": "completed"
    },
    "tags": []
   },
   "outputs": [],
   "source": [
    "# w2v = word2vec.Word2Vec(sentence,vector_size=25,window=25,min_count=1,workers=5,sg=1,hs=1,sorted_vocab=1,seed=42)\n",
    "# w2v.save(\"word2vec_trainingdata_all_size25.model\")"
   ]
  },
  {
   "cell_type": "code",
   "execution_count": 10,
   "id": "adult-insider",
   "metadata": {
    "execution": {
     "iopub.execute_input": "2021-04-27T14:30:13.670090Z",
     "iopub.status.busy": "2021-04-27T14:30:13.669288Z",
     "iopub.status.idle": "2021-04-27T14:30:16.451476Z",
     "shell.execute_reply": "2021-04-27T14:30:16.450725Z"
    },
    "papermill": {
     "duration": 2.802148,
     "end_time": "2021-04-27T14:30:16.451650",
     "exception": false,
     "start_time": "2021-04-27T14:30:13.649502",
     "status": "completed"
    },
    "tags": []
   },
   "outputs": [],
   "source": [
    "w2v = word2vec.Word2Vec.load(\"../input/w2v-model/word2vec_trainingdata_all_size25.model\")"
   ]
  },
  {
   "cell_type": "code",
   "execution_count": 11,
   "id": "acquired-george",
   "metadata": {
    "execution": {
     "iopub.execute_input": "2021-04-27T14:30:16.487093Z",
     "iopub.status.busy": "2021-04-27T14:30:16.486357Z",
     "iopub.status.idle": "2021-04-27T14:30:16.511987Z",
     "shell.execute_reply": "2021-04-27T14:30:16.512915Z"
    },
    "papermill": {
     "duration": 0.046991,
     "end_time": "2021-04-27T14:30:16.513227",
     "exception": false,
     "start_time": "2021-04-27T14:30:16.466236",
     "status": "completed"
    },
    "tags": []
   },
   "outputs": [
    {
     "data": {
      "text/plain": [
       "[('murderer', 0.9479272961616516),\n",
       " ('accused', 0.9181045293807983),\n",
       " ('murdered', 0.9108615517616272),\n",
       " ('witnesses', 0.903934121131897),\n",
       " ('clammed', 0.9032635688781738),\n",
       " ('suspected', 0.9014613032341003),\n",
       " ('case', 0.9005158543586731),\n",
       " ('smugly', 0.8988717794418335),\n",
       " ('kostenko', 0.8976795673370361),\n",
       " ('pled', 0.8955886363983154)]"
      ]
     },
     "execution_count": 11,
     "metadata": {},
     "output_type": "execute_result"
    }
   ],
   "source": [
    "w2v.wv.most_similar('murder', topn=10)"
   ]
  },
  {
   "cell_type": "code",
   "execution_count": 12,
   "id": "bored-punch",
   "metadata": {
    "execution": {
     "iopub.execute_input": "2021-04-27T14:30:16.573566Z",
     "iopub.status.busy": "2021-04-27T14:30:16.572533Z",
     "iopub.status.idle": "2021-04-27T14:30:27.821150Z",
     "shell.execute_reply": "2021-04-27T14:30:27.820430Z"
    },
    "papermill": {
     "duration": 11.28301,
     "end_time": "2021-04-27T14:30:27.821324",
     "exception": false,
     "start_time": "2021-04-27T14:30:16.538314",
     "status": "completed"
    },
    "tags": []
   },
   "outputs": [
    {
     "name": "stderr",
     "output_type": "stream",
     "text": [
      "/opt/conda/lib/python3.7/site-packages/ipykernel_launcher.py:7: RuntimeWarning: invalid value encountered in true_divide\n",
      "  import sys\n"
     ]
    }
   ],
   "source": [
    "def sen2vec(sentence):\n",
    "    res = []\n",
    "    for i in range(len(sentence)):\n",
    "        vec = np.zeros(25)\n",
    "        for j in sentence[i]:\n",
    "            vec += w2v.wv[j]\n",
    "        vec = vec/len(sentence[i])\n",
    "        res.append(vec)   \n",
    "    return res\n",
    "res = sen2vec(sentence)"
   ]
  },
  {
   "cell_type": "code",
   "execution_count": 13,
   "id": "helpful-revision",
   "metadata": {
    "execution": {
     "iopub.execute_input": "2021-04-27T14:30:27.861417Z",
     "iopub.status.busy": "2021-04-27T14:30:27.860678Z",
     "iopub.status.idle": "2021-04-27T14:30:27.862521Z",
     "shell.execute_reply": "2021-04-27T14:30:27.863052Z"
    },
    "papermill": {
     "duration": 0.026429,
     "end_time": "2021-04-27T14:30:27.863250",
     "exception": false,
     "start_time": "2021-04-27T14:30:27.836821",
     "status": "completed"
    },
    "tags": []
   },
   "outputs": [],
   "source": [
    "def similarity_movie(name,top,name_overview,contvec):\n",
    "    index = name_overview.loc[name_overview['original_title'] == name].index[0]\n",
    "    ans = np.zeros(len(res))\n",
    "    ans += 1000\n",
    "    for i in range(len(res)):\n",
    "        if(np.isfinite(res[i]).all()):\n",
    "            ans[i] = distance.euclidean(contvec[index],res[i])\n",
    "    sim = np.argsort(ans)[1:top+1]\n",
    "    for i in sim:\n",
    "        print('Title: ',name_overview['original_title'].iloc[i])\n",
    "        print('Overview: ',name_overview['overview'].iloc[i])\n",
    "        print('\\n')"
   ]
  },
  {
   "cell_type": "code",
   "execution_count": 14,
   "id": "vanilla-private",
   "metadata": {
    "execution": {
     "iopub.execute_input": "2021-04-27T14:30:27.898403Z",
     "iopub.status.busy": "2021-04-27T14:30:27.897768Z",
     "iopub.status.idle": "2021-04-27T14:30:28.819617Z",
     "shell.execute_reply": "2021-04-27T14:30:28.819029Z"
    },
    "papermill": {
     "duration": 0.940313,
     "end_time": "2021-04-27T14:30:28.819790",
     "exception": false,
     "start_time": "2021-04-27T14:30:27.879477",
     "status": "completed"
    },
    "tags": []
   },
   "outputs": [
    {
     "name": "stdout",
     "output_type": "stream",
     "text": [
      "Title:  The Dark Knight\n",
      "Overview:  Batman raises the stakes in his war on crime. With the help of Lt. Jim Gordon and District Attorney Harvey Dent, Batman sets out to dismantle the remaining criminal organizations that plague the streets. The partnership proves to be effective, but they soon find themselves prey to a reign of chaos unleashed by a rising criminal mastermind known to the terrified citizens of Gotham as the Joker.\n",
      "\n",
      "\n",
      "Title:  Batman: Under the Red Hood\n",
      "Overview:  Batman faces his ultimate challenge as the mysterious Red Hood takes Gotham City by firestorm. One part vigilante, one part criminal kingpin, Red Hood begins cleaning up Gotham with the efficiency of Batman, but without following the same ethical code.\n",
      "\n",
      "\n",
      "Title:  The Dark Knight Rises\n",
      "Overview:  Following the death of District Attorney Harvey Dent, Batman assumes responsibility for Dent's crimes to protect the late attorney's reputation and is subsequently hunted by the Gotham City Police Department. Eight years later, Batman encounters the mysterious Selina Kyle and the villainous Bane, a new terrorist leader who overwhelms Gotham's finest. The Dark Knight resurfaces to protect a city that has branded him an enemy.\n",
      "\n",
      "\n",
      "Title:  Sparks\n",
      "Overview:  A masked vigilante who discovers the dark side to heroism. Going after the nation's most notorious super criminal leaves Sparks' life and reputation in ruins.\n",
      "\n",
      "\n",
      "Title:  Batman Returns\n",
      "Overview:  Having defeated the Joker, Batman now faces the Penguin - a warped and deformed individual who is intent on being accepted into Gotham society. Crooked businessman Max Schreck is coerced into helping him become Mayor of Gotham and they both attempt to expose Batman in a different light. Selina Kyle, Max's secretary, is thrown from the top of a building and is transformed into Catwoman - a mysterious figure who has the same personality disorder as Batman. Batman must attempt to clear his name, all the time deciding just what must be done with the Catwoman.\n",
      "\n",
      "\n"
     ]
    }
   ],
   "source": [
    "similarity_movie('Batman',5,name_overview,res)"
   ]
  }
 ],
 "metadata": {
  "kernelspec": {
   "display_name": "Python 3",
   "language": "python",
   "name": "python3"
  },
  "language_info": {
   "codemirror_mode": {
    "name": "ipython",
    "version": 3
   },
   "file_extension": ".py",
   "mimetype": "text/x-python",
   "name": "python",
   "nbconvert_exporter": "python",
   "pygments_lexer": "ipython3",
   "version": "3.7.10"
  },
  "papermill": {
   "default_parameters": {},
   "duration": 39.065513,
   "end_time": "2021-04-27T14:30:30.600365",
   "environment_variables": {},
   "exception": null,
   "input_path": "__notebook__.ipynb",
   "output_path": "__notebook__.ipynb",
   "parameters": {},
   "start_time": "2021-04-27T14:29:51.534852",
   "version": "2.3.3"
  }
 },
 "nbformat": 4,
 "nbformat_minor": 5
}
