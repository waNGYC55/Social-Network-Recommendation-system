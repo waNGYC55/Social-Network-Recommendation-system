{
 "cells": [
  {
   "cell_type": "code",
   "execution_count": 60,
   "metadata": {},
   "outputs": [
    {
     "name": "stderr",
     "output_type": "stream",
     "text": [
      "/Users/lianzeng/opt/anaconda3/lib/python3.7/site-packages/IPython/core/interactiveshell.py:3058: DtypeWarning: Columns (10) have mixed types. Specify dtype option on import or set low_memory=False.\n",
      "  interactivity=interactivity, compiler=compiler, result=result)\n"
     ]
    }
   ],
   "source": [
    "import pandas as pd \n",
    "import numpy as np \n",
    "#read files\n",
    "df1=pd.read_csv('movies_metadata.csv')\n",
    "ratings=pd.read_csv('ratings.csv')"
   ]
  },
  {
   "cell_type": "code",
   "execution_count": 61,
   "metadata": {},
   "outputs": [],
   "source": [
    "#Movie Data Preprocessing\n",
    "data=pd.DataFrame(df1[['id','original_language','original_title','overview','popularity']])\n",
    "data=data.dropna(axis=0,how='any')  \n",
    "data=data[data['original_language'].isin(['en'])] # Only remain the movies which their overviews are in English"
   ]
  },
  {
   "cell_type": "code",
   "execution_count": 62,
   "metadata": {},
   "outputs": [
    {
     "data": {
      "text/html": [
       "<div>\n",
       "<style scoped>\n",
       "    .dataframe tbody tr th:only-of-type {\n",
       "        vertical-align: middle;\n",
       "    }\n",
       "\n",
       "    .dataframe tbody tr th {\n",
       "        vertical-align: top;\n",
       "    }\n",
       "\n",
       "    .dataframe thead th {\n",
       "        text-align: right;\n",
       "    }\n",
       "</style>\n",
       "<table border=\"1\" class=\"dataframe\">\n",
       "  <thead>\n",
       "    <tr style=\"text-align: right;\">\n",
       "      <th></th>\n",
       "      <th>id</th>\n",
       "      <th>original_language</th>\n",
       "      <th>original_title</th>\n",
       "      <th>overview</th>\n",
       "      <th>popularity</th>\n",
       "    </tr>\n",
       "  </thead>\n",
       "  <tbody>\n",
       "    <tr>\n",
       "      <td>0</td>\n",
       "      <td>862</td>\n",
       "      <td>en</td>\n",
       "      <td>Toy Story</td>\n",
       "      <td>Led by Woody, Andy's toys live happily in his ...</td>\n",
       "      <td>21.9469</td>\n",
       "    </tr>\n",
       "    <tr>\n",
       "      <td>1</td>\n",
       "      <td>8844</td>\n",
       "      <td>en</td>\n",
       "      <td>Jumanji</td>\n",
       "      <td>When siblings Judy and Peter discover an encha...</td>\n",
       "      <td>17.0155</td>\n",
       "    </tr>\n",
       "    <tr>\n",
       "      <td>2</td>\n",
       "      <td>15602</td>\n",
       "      <td>en</td>\n",
       "      <td>Grumpier Old Men</td>\n",
       "      <td>A family wedding reignites the ancient feud be...</td>\n",
       "      <td>11.7129</td>\n",
       "    </tr>\n",
       "    <tr>\n",
       "      <td>3</td>\n",
       "      <td>31357</td>\n",
       "      <td>en</td>\n",
       "      <td>Waiting to Exhale</td>\n",
       "      <td>Cheated on, mistreated and stepped on, the wom...</td>\n",
       "      <td>3.85949</td>\n",
       "    </tr>\n",
       "    <tr>\n",
       "      <td>4</td>\n",
       "      <td>11862</td>\n",
       "      <td>en</td>\n",
       "      <td>Father of the Bride Part II</td>\n",
       "      <td>Just when George Banks has recovered from his ...</td>\n",
       "      <td>8.38752</td>\n",
       "    </tr>\n",
       "  </tbody>\n",
       "</table>\n",
       "</div>"
      ],
      "text/plain": [
       "      id original_language               original_title  \\\n",
       "0    862                en                    Toy Story   \n",
       "1   8844                en                      Jumanji   \n",
       "2  15602                en             Grumpier Old Men   \n",
       "3  31357                en            Waiting to Exhale   \n",
       "4  11862                en  Father of the Bride Part II   \n",
       "\n",
       "                                            overview popularity  \n",
       "0  Led by Woody, Andy's toys live happily in his ...    21.9469  \n",
       "1  When siblings Judy and Peter discover an encha...    17.0155  \n",
       "2  A family wedding reignites the ancient feud be...    11.7129  \n",
       "3  Cheated on, mistreated and stepped on, the wom...    3.85949  \n",
       "4  Just when George Banks has recovered from his ...    8.38752  "
      ]
     },
     "execution_count": 62,
     "metadata": {},
     "output_type": "execute_result"
    }
   ],
   "source": [
    "data.head() #The movie dataset after preprocessing"
   ]
  },
  {
   "cell_type": "code",
   "execution_count": 63,
   "metadata": {},
   "outputs": [],
   "source": [
    "#Prepocessing user data\n",
    "#Calculate the count of votes and the total score of ratings each movie received\n",
    "\n",
    "ratings1 = ratings.groupby(by=['movieId'])['rating'].sum()\n",
    "ratings1=ratings1.to_frame()\n",
    "\n",
    "one=pd.DataFrame(1 for i in range(len(ratings)))\n",
    "ratings2=ratings.join(one)\n",
    "ratings2=pd.DataFrame(ratings2)\n",
    "ratings2= ratings2.rename(columns={0:'count'})\n",
    "\n",
    "count = ratings2.groupby(by=['movieId'])['count'].sum()\n",
    "data['id'] = data['id'].apply(int)\n",
    "data['popularity'] = data['popularity'].apply(float)\n",
    "\n",
    "final=pd.merge(data, ratings1, right_index=True, left_on='id')\n",
    "final=pd.merge(final, count, right_index=True, left_on='id')\n",
    "\n",
    "#Calculate the average score of ratings.\n",
    "final['average_count']=final['rating']/final['count']"
   ]
  },
  {
   "cell_type": "code",
   "execution_count": 64,
   "metadata": {},
   "outputs": [
    {
     "data": {
      "text/plain": [
       "3.1354517301766602"
      ]
     },
     "execution_count": 64,
     "metadata": {},
     "output_type": "execute_result"
    }
   ],
   "source": [
    "#C is the mean vote across the whole report\n",
    "C= final['average_count'].mean()\n",
    "C"
   ]
  },
  {
   "cell_type": "code",
   "execution_count": 65,
   "metadata": {},
   "outputs": [
    {
     "data": {
      "text/plain": [
       "3457.800000000001"
      ]
     },
     "execution_count": 65,
     "metadata": {},
     "output_type": "execute_result"
    }
   ],
   "source": [
    "#m is the minimum votes required to be listed in the chart;\n",
    "m= final['count'].quantile(0.9)\n",
    "m"
   ]
  },
  {
   "cell_type": "code",
   "execution_count": 66,
   "metadata": {},
   "outputs": [
    {
     "data": {
      "text/plain": [
       "(539, 8)"
      ]
     },
     "execution_count": 66,
     "metadata": {},
     "output_type": "execute_result"
    }
   ],
   "source": [
    "# filter out the movies that qualify for the chart\n",
    "q_movies = final.copy().loc[final['count'] >= m]\n",
    "q_movies.shape"
   ]
  },
  {
   "cell_type": "code",
   "execution_count": 67,
   "metadata": {},
   "outputs": [],
   "source": [
    "\n",
    "def weighted_rating(x, m=m, C=C):\n",
    "    v = x['count']\n",
    "    R = x['average_count']\n",
    "    # Calculation based on the IMDB formula\n",
    "    return (v/(v+m) * R) + (m/(m+v) * C)\n",
    "# Define a new feature 'score' and calculate its value with `weighted_rating()`\n",
    "final['score'] = final.apply(weighted_rating, axis=1)"
   ]
  },
  {
   "cell_type": "code",
   "execution_count": 68,
   "metadata": {},
   "outputs": [
    {
     "data": {
      "text/html": [
       "<div>\n",
       "<style scoped>\n",
       "    .dataframe tbody tr th:only-of-type {\n",
       "        vertical-align: middle;\n",
       "    }\n",
       "\n",
       "    .dataframe tbody tr th {\n",
       "        vertical-align: top;\n",
       "    }\n",
       "\n",
       "    .dataframe thead th {\n",
       "        text-align: right;\n",
       "    }\n",
       "</style>\n",
       "<table border=\"1\" class=\"dataframe\">\n",
       "  <thead>\n",
       "    <tr style=\"text-align: right;\">\n",
       "      <th></th>\n",
       "      <th>id</th>\n",
       "      <th>original_language</th>\n",
       "      <th>original_title</th>\n",
       "      <th>overview</th>\n",
       "      <th>popularity</th>\n",
       "      <th>rating</th>\n",
       "      <th>count</th>\n",
       "      <th>average_count</th>\n",
       "      <th>score</th>\n",
       "    </tr>\n",
       "  </thead>\n",
       "  <tbody>\n",
       "    <tr>\n",
       "      <td>14</td>\n",
       "      <td>1408</td>\n",
       "      <td>en</td>\n",
       "      <td>Cutthroat Island</td>\n",
       "      <td>Morgan Adams and her slave, William Shaw, are ...</td>\n",
       "      <td>7.284477</td>\n",
       "      <td>51527.0</td>\n",
       "      <td>13888</td>\n",
       "      <td>3.710181</td>\n",
       "      <td>10.880089</td>\n",
       "    </tr>\n",
       "    <tr>\n",
       "      <td>15</td>\n",
       "      <td>524</td>\n",
       "      <td>en</td>\n",
       "      <td>Casino</td>\n",
       "      <td>The life of the gambling paradise – Las Vegas ...</td>\n",
       "      <td>10.137389</td>\n",
       "      <td>32209.5</td>\n",
       "      <td>9163</td>\n",
       "      <td>3.515170</td>\n",
       "      <td>13.548525</td>\n",
       "    </tr>\n",
       "    <tr>\n",
       "      <td>17</td>\n",
       "      <td>5</td>\n",
       "      <td>en</td>\n",
       "      <td>Four Rooms</td>\n",
       "      <td>It's Ted the Bellhop's first night on the job....</td>\n",
       "      <td>9.026586</td>\n",
       "      <td>46988.0</td>\n",
       "      <td>15258</td>\n",
       "      <td>3.079565</td>\n",
       "      <td>12.116476</td>\n",
       "    </tr>\n",
       "    <tr>\n",
       "      <td>61</td>\n",
       "      <td>2054</td>\n",
       "      <td>en</td>\n",
       "      <td>Mr. Holland's Opus</td>\n",
       "      <td>In 1965, passionate musician Glenn Holland tak...</td>\n",
       "      <td>7.137117</td>\n",
       "      <td>50839.5</td>\n",
       "      <td>18807</td>\n",
       "      <td>2.703222</td>\n",
       "      <td>9.907466</td>\n",
       "    </tr>\n",
       "    <tr>\n",
       "      <td>195</td>\n",
       "      <td>281</td>\n",
       "      <td>en</td>\n",
       "      <td>Strange Days</td>\n",
       "      <td>Set in the year 1999 during the last days of t...</td>\n",
       "      <td>11.223055</td>\n",
       "      <td>14956.0</td>\n",
       "      <td>4088</td>\n",
       "      <td>3.658513</td>\n",
       "      <td>14.641879</td>\n",
       "    </tr>\n",
       "    <tr>\n",
       "      <td>...</td>\n",
       "      <td>...</td>\n",
       "      <td>...</td>\n",
       "      <td>...</td>\n",
       "      <td>...</td>\n",
       "      <td>...</td>\n",
       "      <td>...</td>\n",
       "      <td>...</td>\n",
       "      <td>...</td>\n",
       "      <td>...</td>\n",
       "    </tr>\n",
       "    <tr>\n",
       "      <td>44144</td>\n",
       "      <td>68954</td>\n",
       "      <td>en</td>\n",
       "      <td>Longitude</td>\n",
       "      <td>Parallel stories: 18th century Harrison builds...</td>\n",
       "      <td>6.051227</td>\n",
       "      <td>89360.0</td>\n",
       "      <td>22460</td>\n",
       "      <td>3.978629</td>\n",
       "      <td>9.917364</td>\n",
       "    </tr>\n",
       "    <tr>\n",
       "      <td>44256</td>\n",
       "      <td>3210</td>\n",
       "      <td>en</td>\n",
       "      <td>The Projected Man</td>\n",
       "      <td>Matter-transmitter sabotage leaves a British s...</td>\n",
       "      <td>0.720828</td>\n",
       "      <td>34661.5</td>\n",
       "      <td>9516</td>\n",
       "      <td>3.642444</td>\n",
       "      <td>4.228148</td>\n",
       "    </tr>\n",
       "    <tr>\n",
       "      <td>44480</td>\n",
       "      <td>2791</td>\n",
       "      <td>en</td>\n",
       "      <td>The Chronicles of Riddick: Dark Fury</td>\n",
       "      <td>After their narrow escape at the end of \"Pitch...</td>\n",
       "      <td>1.628881</td>\n",
       "      <td>82977.0</td>\n",
       "      <td>21907</td>\n",
       "      <td>3.787693</td>\n",
       "      <td>5.327659</td>\n",
       "    </tr>\n",
       "    <tr>\n",
       "      <td>44984</td>\n",
       "      <td>3178</td>\n",
       "      <td>en</td>\n",
       "      <td>Beat</td>\n",
       "      <td>The story of writer William Seward Burroughs a...</td>\n",
       "      <td>0.758451</td>\n",
       "      <td>19835.0</td>\n",
       "      <td>5316</td>\n",
       "      <td>3.731189</td>\n",
       "      <td>4.254857</td>\n",
       "    </tr>\n",
       "    <tr>\n",
       "      <td>45353</td>\n",
       "      <td>3104</td>\n",
       "      <td>en</td>\n",
       "      <td>Frankenstein Created Woman</td>\n",
       "      <td>A deformed tormented girl drowns herself after...</td>\n",
       "      <td>2.302582</td>\n",
       "      <td>21884.5</td>\n",
       "      <td>5756</td>\n",
       "      <td>3.802033</td>\n",
       "      <td>5.854457</td>\n",
       "    </tr>\n",
       "  </tbody>\n",
       "</table>\n",
       "<p>539 rows × 9 columns</p>\n",
       "</div>"
      ],
      "text/plain": [
       "          id original_language                        original_title  \\\n",
       "14      1408                en                      Cutthroat Island   \n",
       "15       524                en                                Casino   \n",
       "17         5                en                            Four Rooms   \n",
       "61      2054                en                    Mr. Holland's Opus   \n",
       "195      281                en                          Strange Days   \n",
       "...      ...               ...                                   ...   \n",
       "44144  68954                en                             Longitude   \n",
       "44256   3210                en                     The Projected Man   \n",
       "44480   2791                en  The Chronicles of Riddick: Dark Fury   \n",
       "44984   3178                en                                  Beat   \n",
       "45353   3104                en            Frankenstein Created Woman   \n",
       "\n",
       "                                                overview  popularity   rating  \\\n",
       "14     Morgan Adams and her slave, William Shaw, are ...    7.284477  51527.0   \n",
       "15     The life of the gambling paradise – Las Vegas ...   10.137389  32209.5   \n",
       "17     It's Ted the Bellhop's first night on the job....    9.026586  46988.0   \n",
       "61     In 1965, passionate musician Glenn Holland tak...    7.137117  50839.5   \n",
       "195    Set in the year 1999 during the last days of t...   11.223055  14956.0   \n",
       "...                                                  ...         ...      ...   \n",
       "44144  Parallel stories: 18th century Harrison builds...    6.051227  89360.0   \n",
       "44256  Matter-transmitter sabotage leaves a British s...    0.720828  34661.5   \n",
       "44480  After their narrow escape at the end of \"Pitch...    1.628881  82977.0   \n",
       "44984  The story of writer William Seward Burroughs a...    0.758451  19835.0   \n",
       "45353  A deformed tormented girl drowns herself after...    2.302582  21884.5   \n",
       "\n",
       "       count  average_count      score  \n",
       "14     13888       3.710181  10.880089  \n",
       "15      9163       3.515170  13.548525  \n",
       "17     15258       3.079565  12.116476  \n",
       "61     18807       2.703222   9.907466  \n",
       "195     4088       3.658513  14.641879  \n",
       "...      ...            ...        ...  \n",
       "44144  22460       3.978629   9.917364  \n",
       "44256   9516       3.642444   4.228148  \n",
       "44480  21907       3.787693   5.327659  \n",
       "44984   5316       3.731189   4.254857  \n",
       "45353   5756       3.802033   5.854457  \n",
       "\n",
       "[539 rows x 9 columns]"
      ]
     },
     "execution_count": 68,
     "metadata": {},
     "output_type": "execute_result"
    }
   ],
   "source": [
    "# Define a new feature 'score' and calculate its value with `weighted_rating()`\n",
    "q_movies['score'] = q_movies.apply(weighted_rating, axis=1)\n",
    "q_movies['score']=q_movies['score']+q_movies['popularity']\n",
    "q_movies"
   ]
  },
  {
   "cell_type": "code",
   "execution_count": 69,
   "metadata": {},
   "outputs": [],
   "source": [
    "#Sort movies based on score calculated above\n",
    "q_movies = q_movies.sort_values('score', ascending=False)\n",
    "\n",
    "#Print the top 15 movies\n",
    "q_movies[['original_title', 'count', 'average_count', 'score','overview']].head(10)\n",
    "q_movies=q_movies.reset_index()"
   ]
  },
  {
   "cell_type": "code",
   "execution_count": 70,
   "metadata": {},
   "outputs": [
    {
     "data": {
      "text/plain": [
       "Text(0.5, 1.0, 'Popular Movies')"
      ]
     },
     "execution_count": 70,
     "metadata": {},
     "output_type": "execute_result"
    },
    {
     "data": {
      "image/png": "[encoded data removed]",
      "text/plain": [
       "<Figure size 864x288 with 1 Axes>"
      ]
     },
     "metadata": {
      "needs_background": "light"
     },
     "output_type": "display_data"
    }
   ],
   "source": [
    "#plot the top five movies\n",
    "import matplotlib.pyplot as plt\n",
    "plt.figure(figsize=(12,4))\n",
    "\n",
    "plt.barh(q_movies['original_title'].head(5),q_movies['score'].head(5), align='center',\n",
    "        color='skyblue')\n",
    "plt.gca().invert_yaxis()\n",
    "plt.xlabel(\"Popularity\")\n",
    "plt.title(\"Popular Movies\")"
   ]
  },
  {
   "cell_type": "code",
   "execution_count": 59,
   "metadata": {},
   "outputs": [
    {
     "name": "stdout",
     "output_type": "stream",
     "text": [
      "\u001b[1mPopularity Based Results\n",
      "\u001b[0m\n",
      "Title:  Fight Club\n",
      "Score:  66.9788833330168\n",
      "Overview:  A ticking-time-bomb insomniac and a slippery soap salesman channel primal male aggression into a shocking new form of therapy. Their concept catches on, with underground \"fight clubs\" forming in every town, until an eccentric gets in the way and ignites an out-of-control spiral toward oblivion.\n",
      "\n",
      "\n",
      "Title:  Pirates of the Caribbean: The Curse of the Black Pearl\n",
      "Score:  50.58784404090121\n",
      "Overview:  Jack Sparrow, a freewheeling 17th-century pirate who roams the Caribbean Sea, butts heads with a rival pirate bent on pillaging the village of Port Royal. When the governor's daughter is kidnapped, Sparrow decides to help the girl's love save her. But their seafaring mission is hardly simple.\n",
      "\n",
      "\n",
      "Title:  Star Wars\n",
      "Score:  45.73110725049731\n",
      "Overview:  Princess Leia is captured and held hostage by the evil Imperial forces in their effort to take over the galactic Empire. Venturesome Luke Skywalker and dashing captain Han Solo team together with the loveable robot duo R2-D2 and C-3PO to rescue the beautiful princess and restore peace and justice in the Empire.\n",
      "\n",
      "\n",
      "Title:  Harry Potter and the Philosopher's Stone\n",
      "Score:  41.67777962967471\n",
      "Overview:  Harry Potter has lived under the stairs at his aunt and uncle's house his whole life. But on his 11th birthday, he learns he's a powerful wizard -- with a place waiting for him at the Hogwarts School of Witchcraft and Wizardry. As he learns to harness his newfound powers with the help of the school's kindly headmaster, Harry uncovers the truth about his parents' deaths -- and about the villain who's to blame.\n",
      "\n",
      "\n",
      "Title:  Psycho\n",
      "Score:  40.304467551813\n",
      "Overview:  When larcenous real estate clerk Marion Crane goes on the lam with a wad of cash and hopes of starting a new life, she ends up at the notorious Bates Motel, where manager Norman Bates cares for his housebound mother. The place seems quirky, but fine… until Marion decides to take a shower.\n",
      "\n",
      "\n"
     ]
    }
   ],
   "source": [
    "#Popularity Based demo\n",
    "print('\\033[1m' + \"Popularity Based Results\")\n",
    "print('\\033[0m')\n",
    "for i in range(len(q_movies[0:5])):\n",
    "    print('Title: ',q_movies['original_title'][i])\n",
    "    print('Score: ',q_movies['score'][i])\n",
    "    print('Overview: ',q_movies['overview'][i])\n",
    "    print('\\n')\n",
    "        "
   ]
  },
  {
   "cell_type": "code",
   "execution_count": null,
   "metadata": {},
   "outputs": [],
   "source": []
  }
 ],
 "metadata": {
  "kernelspec": {
   "display_name": "Python 3",
   "language": "python",
   "name": "python3"
  },
  "language_info": {
   "codemirror_mode": {
    "name": "ipython",
    "version": 3
   },
   "file_extension": ".py",
   "mimetype": "text/x-python",
   "name": "python",
   "nbconvert_exporter": "python",
   "pygments_lexer": "ipython3",
   "version": "3.7.4"
  }
 },
 "nbformat": 4,
 "nbformat_minor": 2
}
