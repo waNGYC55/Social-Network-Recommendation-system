{
 "metadata": {
  "language_info": {
   "codemirror_mode": {
    "name": "ipython",
    "version": 3
   },
   "file_extension": ".py",
   "mimetype": "text/x-python",
   "name": "python",
   "nbconvert_exporter": "python",
   "pygments_lexer": "ipython3",
   "version": "3.8.5"
  },
  "orig_nbformat": 2,
  "kernelspec": {
   "name": "python385jvsc74a57bd0cefe70933266e1e1b80a946dc9dbccfbcb369ac5c8ff1fffdb5dfe5a6ae47b7d",
   "display_name": "Python 3.8.5 64-bit ('mvrec': conda)"
  }
 },
 "nbformat": 4,
 "nbformat_minor": 2,
 "cells": [
  {
   "cell_type": "code",
   "execution_count": 14,
   "metadata": {},
   "outputs": [],
   "source": [
    "import pandas as pd\n",
    "import numpy as np\n",
    "import math\n",
    "from surprise import Reader, Dataset, SVD\n",
    "from surprise.model_selection import cross_validate\n",
    "from surprise.model_selection import train_test_split\n",
    "from surprise import KNNWithMeans"
   ]
  },
  {
   "cell_type": "code",
   "execution_count": 2,
   "metadata": {},
   "outputs": [
    {
     "output_type": "execute_result",
     "data": {
      "text/plain": [
       "   userId  movieId  rating   timestamp\n",
       "0       1       31     2.5  1260759144\n",
       "1       1     1029     3.0  1260759179\n",
       "2       1     1061     3.0  1260759182\n",
       "3       1     1129     2.0  1260759185\n",
       "4       1     1172     4.0  1260759205"
      ],
      "text/html": "<div>\n<style scoped>\n    .dataframe tbody tr th:only-of-type {\n        vertical-align: middle;\n    }\n\n    .dataframe tbody tr th {\n        vertical-align: top;\n    }\n\n    .dataframe thead th {\n        text-align: right;\n    }\n</style>\n<table border=\"1\" class=\"dataframe\">\n  <thead>\n    <tr style=\"text-align: right;\">\n      <th></th>\n      <th>userId</th>\n      <th>movieId</th>\n      <th>rating</th>\n      <th>timestamp</th>\n    </tr>\n  </thead>\n  <tbody>\n    <tr>\n      <th>0</th>\n      <td>1</td>\n      <td>31</td>\n      <td>2.5</td>\n      <td>1260759144</td>\n    </tr>\n    <tr>\n      <th>1</th>\n      <td>1</td>\n      <td>1029</td>\n      <td>3.0</td>\n      <td>1260759179</td>\n    </tr>\n    <tr>\n      <th>2</th>\n      <td>1</td>\n      <td>1061</td>\n      <td>3.0</td>\n      <td>1260759182</td>\n    </tr>\n    <tr>\n      <th>3</th>\n      <td>1</td>\n      <td>1129</td>\n      <td>2.0</td>\n      <td>1260759185</td>\n    </tr>\n    <tr>\n      <th>4</th>\n      <td>1</td>\n      <td>1172</td>\n      <td>4.0</td>\n      <td>1260759205</td>\n    </tr>\n  </tbody>\n</table>\n</div>"
     },
     "metadata": {},
     "execution_count": 2
    }
   ],
   "source": [
    "file_path = 'ratings_small.csv'\n",
    "\n",
    "reader = Reader(line_format='user item rating', sep=',', rating_scale = (1,5))\n",
    "#ratings = pd.read_csv('ratings_small.csv')\n",
    "\n",
    "ratings = pd.read_csv(file_path)\n",
    "ratings.head()"
   ]
  },
  {
   "cell_type": "code",
   "execution_count": 3,
   "metadata": {},
   "outputs": [],
   "source": [
    "data = Dataset.load_from_df(ratings[['userId', 'movieId', 'rating']], reader)"
   ]
  },
  {
   "cell_type": "code",
   "execution_count": 6,
   "metadata": {},
   "outputs": [
    {
     "output_type": "stream",
     "name": "stdout",
     "text": [
      "Number of users:  671 \n\nNumber of items:  9066 \n\n"
     ]
    }
   ],
   "source": [
    "trainset = data.build_full_trainset()\n",
    "print('Number of users: ', trainset.n_users, '\\n')\n",
    "print('Number of items: ', trainset.n_items, '\\n')"
   ]
  },
  {
   "cell_type": "code",
   "execution_count": 7,
   "metadata": {},
   "outputs": [],
   "source": [
    "#find the unique id of items and users\n",
    "trainset_iids = list(trainset.all_items())\n",
    "iid_converter = lambda x: trainset.to_raw_iid(x)\n",
    "trainset_raw_iids = np.array(list(map(iid_converter, trainset_iids)))\n",
    "\n",
    "trainset_uids = list(trainset.all_users())\n",
    "uid_converter = lambda x: trainset.to_raw_uid(x)\n",
    "trainset_raw_uids = np.array(list(map(uid_converter, trainset_uids)))"
   ]
  },
  {
   "cell_type": "code",
   "execution_count": 8,
   "metadata": {},
   "outputs": [
    {
     "output_type": "execute_result",
     "data": {
      "text/plain": [
       "array([  31, 1029, 1061, 1129, 1172, 1263, 1287, 1293, 1339, 1343])"
      ]
     },
     "metadata": {},
     "execution_count": 8
    }
   ],
   "source": [
    "#show the item ids\n",
    "trainset_raw_iids[0:10]"
   ]
  },
  {
   "cell_type": "code",
   "execution_count": 9,
   "metadata": {},
   "outputs": [
    {
     "output_type": "execute_result",
     "data": {
      "text/plain": [
       "array([ 1,  2,  3,  4,  5,  6,  7,  8,  9, 10])"
      ]
     },
     "metadata": {},
     "execution_count": 9
    }
   ],
   "source": [
    "#show the user ids\n",
    "trainset_raw_uids[0:10]"
   ]
  },
  {
   "cell_type": "code",
   "execution_count": 10,
   "metadata": {},
   "outputs": [],
   "source": [
    "#Memory-based model using KNN\n",
    "#we use a smaller dataset (2mb) in this method\n",
    "#since a KNN method on the whole ratings dataset (692mb)\n",
    "#will consume 547. GiB memory during the training process\n",
    "#which is too large for almost all the machines at DKU I believe"
   ]
  },
  {
   "cell_type": "code",
   "execution_count": 22,
   "metadata": {},
   "outputs": [],
   "source": [
    "#define a item based KNN method using cosine similarity\n",
    "my_sim_option = {'name':'cosine', 'user_based':True }"
   ]
  },
  {
   "cell_type": "code",
   "execution_count": 23,
   "metadata": {},
   "outputs": [],
   "source": [
    "#define the knn with means\n",
    "knnmean = KNNWithMeans(k = my_k, min_k = my_min_k, sim_options = my_sim_option, verbose = True)"
   ]
  },
  {
   "cell_type": "code",
   "execution_count": 24,
   "metadata": {},
   "outputs": [
    {
     "output_type": "stream",
     "name": "stdout",
     "text": [
      "Computing the cosine similarity matrix...\n",
      "Done computing similarity matrix.\n",
      "Computing the cosine similarity matrix...\n",
      "Done computing similarity matrix.\n",
      "Computing the cosine similarity matrix...\n",
      "Done computing similarity matrix.\n",
      "Computing the cosine similarity matrix...\n",
      "Done computing similarity matrix.\n",
      "Computing the cosine similarity matrix...\n",
      "Done computing similarity matrix.\n",
      "Evaluating RMSE of algorithm KNNWithMeans on 5 split(s).\n",
      "\n",
      "                  Fold 1  Fold 2  Fold 3  Fold 4  Fold 5  Mean    Std     \n",
      "RMSE (testset)    0.9221  0.9173  0.9165  0.9118  0.9251  0.9186  0.0046  \n",
      "RMSE (trainset)   0.8033  0.8047  0.8029  0.8037  0.8023  0.8034  0.0008  \n",
      "Fit time          1.25    1.05    1.01    0.84    0.91    1.01    0.14    \n",
      "Test time         2.04    2.10    1.77    1.70    1.92    1.91    0.15    \n",
      "0.9185681735289097\n"
     ]
    }
   ],
   "source": [
    "my_k = 20\n",
    "my_min_k = 5\n",
    "\n",
    "results = cross_validate(algo = knnmean, data = data, measures=['RMSE'], cv=5, return_train_measures=True, verbose=True)\n",
    "print(results['test_rmse'].mean())\n"
   ]
  },
  {
   "cell_type": "code",
   "execution_count": 25,
   "metadata": {},
   "outputs": [
    {
     "output_type": "stream",
     "name": "stdout",
     "text": [
      "Computing the cosine similarity matrix...\n",
      "Done computing similarity matrix.\n"
     ]
    },
    {
     "output_type": "execute_result",
     "data": {
      "text/plain": [
       "<surprise.prediction_algorithms.knns.KNNWithMeans at 0x18cf8e96ca0>"
      ]
     },
     "metadata": {},
     "execution_count": 25
    }
   ],
   "source": [
    "knnmean.fit(trainsetfull)"
   ]
  },
  {
   "cell_type": "code",
   "execution_count": 27,
   "metadata": {},
   "outputs": [
    {
     "output_type": "execute_result",
     "data": {
      "text/plain": [
       "2.559303304627955"
      ]
     },
     "metadata": {},
     "execution_count": 27
    }
   ],
   "source": [
    "knnmean.predict(uid = 1, iid = 302).est"
   ]
  },
  {
   "cell_type": "code",
   "execution_count": 29,
   "metadata": {},
   "outputs": [],
   "source": [
    "knnmean.predict(uid = 1, iid = 302)"
   ]
  },
  {
   "cell_type": "code",
   "execution_count": null,
   "metadata": {},
   "outputs": [],
   "source": [
    "#build the initial table of user/item\n",
    "init_useritem_table=np.zeros((trainset.n_users, trainset.n_items),dtype='float16')\n",
    "\n",
    "for i in range(0,len(ratings)):\n",
    "    iuserid=ratings.iloc[i,0]\n",
    "    iiid=ratings.iloc[i,1]\n",
    "    irating=ratings.iloc[i,2]\n",
    "    init_useritem_table[int(np.argwhere(trainset_raw_uids==iuserid))][int(np.argwhere(trainset_raw_iids==iiid))]=irating"
   ]
  },
  {
   "cell_type": "code",
   "execution_count": 31,
   "metadata": {},
   "outputs": [],
   "source": [
    "np.save(\"init_useritem_table.npy\", init_useritem_table)\n",
    "print(\"save init_useritem_table.npy done\")"
   ]
  },
  {
   "cell_type": "code",
   "execution_count": 32,
   "metadata": {},
   "outputs": [
    {
     "output_type": "execute_result",
     "data": {
      "text/plain": [
       "array([[2.5 , 3.  , 3.  , ..., 2.55, 2.55, 2.55]], dtype=float16)"
      ]
     },
     "metadata": {},
     "execution_count": 32
    }
   ],
   "source": [
    "#build the filled table of user/item after using SVD to predict the empty\n",
    "filled_useritem_table=np.copy(init_useritem_table)\n",
    "\n",
    "for i in range(0, init_useritem_table.shape[0]):\n",
    "    for j in range(0, init_useritem_table.shape[1]):\n",
    "        if(init_useritem_table[i][j])==0:\n",
    "            filled_useritem_table[i][j]=knnmean.predict(uid=trainset_raw_uids[i], iid=trainset_raw_iids[j]).est\n",
    "        else:\n",
    "            continue"
   ]
  },
  {
   "cell_type": "code",
   "execution_count": 33,
   "metadata": {},
   "outputs": [
    {
     "output_type": "stream",
     "name": "stdout",
     "text": [
      "save filled_useritem_table_knnmean.npy done\n"
     ]
    }
   ],
   "source": [
    "filled_useritem_table[0:1]"
   ]
  },
  {
   "cell_type": "code",
   "execution_count": null,
   "metadata": {},
   "outputs": [],
   "source": [
    "np.save(\"filled_useritem_table_knnmean.npy\", filled_useritem_table)\n",
    "print(\"save filled_useritem_table_knnmean.npy done\")"
   ]
  }
 ]
}