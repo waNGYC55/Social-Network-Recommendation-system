{
 "metadata": {
  "language_info": {
   "codemirror_mode": {
    "name": "ipython",
    "version": 3
   },
   "file_extension": ".py",
   "mimetype": "text/x-python",
   "name": "python",
   "nbconvert_exporter": "python",
   "pygments_lexer": "ipython3",
   "version": "3.8.5"
  },
  "orig_nbformat": 2,
  "kernelspec": {
   "name": "python385jvsc74a57bd04ea3b5d14630c79bde301e22884c2aa57f93e21edf6234a3ae81454c3f101171",
   "display_name": "Python 3.8.5 64-bit ('test0': conda)"
  }
 },
 "nbformat": 4,
 "nbformat_minor": 2,
 "cells": [
  {
   "cell_type": "code",
   "execution_count": 1,
   "metadata": {},
   "outputs": [],
   "source": [
    "import pandas as pd\n",
    "import numpy as np\n",
    "import math\n",
    "from surprise import Reader, Dataset, SVD\n",
    "from surprise.model_selection import cross_validate\n",
    "from surprise.model_selection import train_test_split"
   ]
  },
  {
   "cell_type": "code",
   "execution_count": 5,
   "metadata": {},
   "outputs": [
    {
     "output_type": "execute_result",
     "data": {
      "text/plain": [
       "   userId  movieId  rating   timestamp\n",
       "0       1       31     2.5  1260759144\n",
       "1       1     1029     3.0  1260759179\n",
       "2       1     1061     3.0  1260759182\n",
       "3       1     1129     2.0  1260759185\n",
       "4       1     1172     4.0  1260759205"
      ],
      "text/html": "<div>\n<style scoped>\n    .dataframe tbody tr th:only-of-type {\n        vertical-align: middle;\n    }\n\n    .dataframe tbody tr th {\n        vertical-align: top;\n    }\n\n    .dataframe thead th {\n        text-align: right;\n    }\n</style>\n<table border=\"1\" class=\"dataframe\">\n  <thead>\n    <tr style=\"text-align: right;\">\n      <th></th>\n      <th>userId</th>\n      <th>movieId</th>\n      <th>rating</th>\n      <th>timestamp</th>\n    </tr>\n  </thead>\n  <tbody>\n    <tr>\n      <th>0</th>\n      <td>1</td>\n      <td>31</td>\n      <td>2.5</td>\n      <td>1260759144</td>\n    </tr>\n    <tr>\n      <th>1</th>\n      <td>1</td>\n      <td>1029</td>\n      <td>3.0</td>\n      <td>1260759179</td>\n    </tr>\n    <tr>\n      <th>2</th>\n      <td>1</td>\n      <td>1061</td>\n      <td>3.0</td>\n      <td>1260759182</td>\n    </tr>\n    <tr>\n      <th>3</th>\n      <td>1</td>\n      <td>1129</td>\n      <td>2.0</td>\n      <td>1260759185</td>\n    </tr>\n    <tr>\n      <th>4</th>\n      <td>1</td>\n      <td>1172</td>\n      <td>4.0</td>\n      <td>1260759205</td>\n    </tr>\n  </tbody>\n</table>\n</div>"
     },
     "metadata": {},
     "execution_count": 5
    }
   ],
   "source": [
    "file_path = 'ratings_small.csv'\n",
    "\n",
    "reader = Reader(line_format='user item rating', sep=',', rating_scale = (1,5))\n",
    "#ratings = pd.read_csv('ratings_small.csv')\n",
    "\n",
    "ratings = pd.read_csv(file_path)\n",
    "ratings.head()"
   ]
  },
  {
   "cell_type": "code",
   "execution_count": 6,
   "metadata": {},
   "outputs": [],
   "source": [
    "data = Dataset.load_from_df(ratings[['userId', 'movieId', 'rating']], reader)\n",
    "trainset = data.build_full_trainset()"
   ]
  },
  {
   "cell_type": "code",
   "execution_count": 7,
   "metadata": {},
   "outputs": [
    {
     "output_type": "stream",
     "name": "stdout",
     "text": [
      "Number of users:  671 \n\nNumber of items:  9066 \n\n"
     ]
    }
   ],
   "source": [
    "print('Number of users: ', trainset.n_users, '\\n')\n",
    "print('Number of items: ', trainset.n_items, '\\n')"
   ]
  },
  {
   "cell_type": "code",
   "execution_count": 10,
   "metadata": {},
   "outputs": [],
   "source": [
    "#define a svd method with bias term\n",
    "svd = SVD(biased=True)"
   ]
  },
  {
   "cell_type": "code",
   "execution_count": 9,
   "metadata": {},
   "outputs": [
    {
     "output_type": "stream",
     "name": "stdout",
     "text": [
      "Evaluating RMSE, MAE of algorithm SVD on 5 split(s).\n\n                  Fold 1  Fold 2  Fold 3  Fold 4  Fold 5  Mean    Std     \nRMSE (testset)    0.8982  0.8962  0.8982  0.8970  0.8979  0.8975  0.0008  \nMAE (testset)     0.6926  0.6927  0.6919  0.6890  0.6926  0.6918  0.0014  \nFit time          4.48    4.49    4.43    4.53    4.46    4.48    0.03    \nTest time         0.15    0.25    0.15    0.25    0.15    0.19    0.05    \n"
     ]
    },
    {
     "output_type": "execute_result",
     "data": {
      "text/plain": [
       "{'test_rmse': array([0.89820983, 0.89618547, 0.89820521, 0.89703203, 0.8979276 ]),\n",
       " 'test_mae': array([0.69262555, 0.69270717, 0.69189721, 0.68895604, 0.69258143]),\n",
       " 'fit_time': (4.482998371124268,\n",
       "  4.494997262954712,\n",
       "  4.433995485305786,\n",
       "  4.531998872756958,\n",
       "  4.462998151779175),\n",
       " 'test_time': (0.15401053428649902,\n",
       "  0.2539997100830078,\n",
       "  0.15000033378601074,\n",
       "  0.2479875087738037,\n",
       "  0.14599990844726562)}"
      ]
     },
     "metadata": {},
     "execution_count": 9
    }
   ],
   "source": [
    "cross_validate(algo=svd, data=data, measures=['RMSE','MAE'], cv=5, verbose=True)"
   ]
  },
  {
   "cell_type": "code",
   "execution_count": 11,
   "metadata": {},
   "outputs": [
    {
     "output_type": "execute_result",
     "data": {
      "text/plain": [
       "<surprise.prediction_algorithms.matrix_factorization.SVD at 0x147c1972880>"
      ]
     },
     "metadata": {},
     "execution_count": 11
    }
   ],
   "source": [
    "#use all the data as training set and later use cross validation for test\n",
    "#alert: If using full dataset (700mb) this could consume around 15gb memory\n",
    "#and might take 5 hours to run\n",
    "\n",
    "svd.fit(trainset)"
   ]
  },
  {
   "cell_type": "code",
   "execution_count": 12,
   "metadata": {},
   "outputs": [
    {
     "output_type": "execute_result",
     "data": {
      "text/plain": [
       "Prediction(uid=1, iid=302, r_ui=3, est=2.6738710750190657, details={'was_impossible': False})"
      ]
     },
     "metadata": {},
     "execution_count": 12
    }
   ],
   "source": [
    "#a simple prediction made with userid 1 and itemid 302\n",
    "svd.predict(uid=1, iid=302, r_ui=3)"
   ]
  },
  {
   "cell_type": "code",
   "execution_count": 8,
   "metadata": {},
   "outputs": [],
   "source": [
    "#find the unique id of items and users\n",
    "trainset_iids = list(trainset.all_items())\n",
    "iid_converter = lambda x: trainset.to_raw_iid(x)\n",
    "trainset_raw_iids = np.array(list(map(iid_converter, trainset_iids)))\n",
    "\n",
    "trainset_uids = list(trainset.all_users())\n",
    "uid_converter = lambda x: trainset.to_raw_uid(x)\n",
    "trainset_raw_uids = np.array(list(map(uid_converter, trainset_uids)))"
   ]
  },
  {
   "cell_type": "code",
   "execution_count": 22,
   "metadata": {},
   "outputs": [
    {
     "output_type": "stream",
     "name": "stdout",
     "text": [
      "[  31 1029 1061 1129 1172 1263 1287 1293 1339 1343]\n"
     ]
    }
   ],
   "source": [
    "#show the item ids\n",
    "print(trainset_raw_iids[0:10])\n",
    "\n",
    "#build the transformation from raw iid to index\n",
    "def rawiid2index(rawiid):\n",
    "    return int(np.argwhere(trainset_raw_iids==rawiid))\n",
    "\n",
    "def index2rawiid(index):\n",
    "    return trainset_raw_iids[index]"
   ]
  },
  {
   "cell_type": "code",
   "execution_count": 23,
   "metadata": {},
   "outputs": [
    {
     "output_type": "stream",
     "name": "stdout",
     "text": [
      "[ 1  2  3  4  5  6  7  8  9 10]\n"
     ]
    }
   ],
   "source": [
    "#show the user ids\n",
    "print(trainset_raw_uids[0:10])\n",
    "\n",
    "\n",
    "#build the transformation from raw uid to index\n",
    "def rawuid2index(rawuid):\n",
    "    return int(np.argwhere(trainset_raw_uids==rawuid))\n",
    "\n",
    "def index2rawuid(index):\n",
    "    return trainset_raw_uids[index]"
   ]
  },
  {
   "cell_type": "code",
   "execution_count": 26,
   "metadata": {},
   "outputs": [],
   "source": [
    "#build the initial table of user/item\n",
    "init_useritem_table=np.zeros((trainset.n_users, trainset.n_items),dtype='float16')\n",
    "\n",
    "for i in range(0,len(ratings)):\n",
    "    iuserid=ratings.iloc[i,0]\n",
    "    iiid=ratings.iloc[i,1]\n",
    "    irating=ratings.iloc[i,2]\n",
    "    init_useritem_table[rawuid2index(iuserid)][rawiid2index(iiid)]=irating\n",
    "    "
   ]
  },
  {
   "cell_type": "code",
   "execution_count": 28,
   "metadata": {},
   "outputs": [
    {
     "output_type": "stream",
     "name": "stdout",
     "text": [
      "save init_useritem_table.npy done\n"
     ]
    }
   ],
   "source": [
    "np.save(\"init_useritem_table.npy\", init_useritem_table)\n",
    "print(\"save init_useritem_table.npy done\")"
   ]
  },
  {
   "cell_type": "code",
   "execution_count": 29,
   "metadata": {},
   "outputs": [],
   "source": [
    "#build the filled table of user/item after using SVD to predict the empty\n",
    "filled_useritem_table=np.copy(init_useritem_table)\n",
    "\n",
    "for i in range(0, init_useritem_table.shape[0]):\n",
    "    for j in range(0, init_useritem_table.shape[1]):\n",
    "        if(init_useritem_table[i][j])==0:\n",
    "            filled_useritem_table[i][j]=svd.predict(uid=trainset_raw_uids[i], iid=trainset_raw_iids[j]).est\n",
    "        else:\n",
    "            continue"
   ]
  },
  {
   "cell_type": "code",
   "execution_count": 30,
   "metadata": {},
   "outputs": [
    {
     "output_type": "execute_result",
     "data": {
      "text/plain": [
       "array([[2.5  , 3.   , 3.   , ..., 2.736, 2.465, 2.469]], dtype=float16)"
      ]
     },
     "metadata": {},
     "execution_count": 30
    }
   ],
   "source": [
    "filled_useritem_table[0:1]"
   ]
  },
  {
   "cell_type": "code",
   "execution_count": 31,
   "metadata": {},
   "outputs": [
    {
     "output_type": "stream",
     "name": "stdout",
     "text": [
      "save filled_useritem_table_svd.npy done\n"
     ]
    }
   ],
   "source": [
    "np.save(\"filled_useritem_table_svd.npy\", filled_useritem_table)\n",
    "print(\"save filled_useritem_table_svd.npy done\")"
   ]
  }
 ]
}